{
  "cells": [
    {
      "cell_type": "code",
      "execution_count": 2,
      "metadata": {
        "colab": {
          "base_uri": "https://localhost:8080/"
        },
        "id": "NK-QcWFPZtA9",
        "outputId": "2deeeda5-3ffe-464e-d636-8e0e7158b1fe"
      },
      "outputs": [
        {
          "name": "stdout",
          "output_type": "stream",
          "text": [
            "Collecting beautifulsoup4\n",
            "  Using cached beautifulsoup4-4.11.1-py3-none-any.whl (128 kB)\n",
            "Collecting soupsieve>1.2\n",
            "  Using cached soupsieve-2.3.2.post1-py3-none-any.whl (37 kB)\n",
            "Installing collected packages: soupsieve, beautifulsoup4\n",
            "Successfully installed beautifulsoup4-4.11.1 soupsieve-2.3.2.post1\n"
          ]
        },
        {
          "name": "stderr",
          "output_type": "stream",
          "text": [
            "WARNING: You are using pip version 21.1.3; however, version 22.1.2 is available.\n",
            "You should consider upgrading via the 'c:\\users\\augus\\appdata\\local\\programs\\python\\python39\\python.exe -m pip install --upgrade pip' command.\n"
          ]
        }
      ],
      "source": [
        "!pip install beautifulsoup4"
      ]
    },
    {
      "cell_type": "code",
      "execution_count": 3,
      "metadata": {
        "id": "9agW_W1cbSH8"
      },
      "outputs": [],
      "source": [
        "from bs4 import BeautifulSoup as soup\n",
        "from urllib.request import urlopen as req"
      ]
    },
    {
      "cell_type": "code",
      "execution_count": 4,
      "metadata": {
        "id": "VQCbg6vSZ0YK"
      },
      "outputs": [],
      "source": [
        "def StockPrice(code):\n",
        "    url=f\"https://www.settrade.com/C04_01_stock_quote_p1.jsp?txtSymbol={code}&ssoPageId=9&selectPage=1\"\n",
        "    name=code\n",
        "    webopen=req(url)\n",
        "    page_html=webopen.read()\n",
        "    webopen.close()\n",
        "    #print(page_html)\n",
        "    data=soup(page_html,'html.parser')\n",
        "    result=data.findAll(\"div\",{\"class\",\"col-xs-6\"})\n",
        "    text1=result[1].text.replace(\"\\n\",\"\").replace(\"\\r\",\"\")\n",
        "    text1=text1[0:10]\n",
        "    price=result[2].text.replace(\"\\n\",\"\").replace(\"\\r\",\"\")\n",
        "    change=result[3].text.replace(\"\\n\",\"\").replace(\" \",\"\").replace(\"\\r\",'')\n",
        "    percen_change=(result[4].text.replace(\"\\n\",\"\").replace(\" \",\"\").replace(\"\\r\",\"\"))\n",
        "    percen_change=float(percen_change[12:len(percen_change)-1])\n",
        "    price=(float(price))\n",
        "    change=(float(change[11:]))\n",
        "    return [name,text1,price,change,str(percen_change)+\"%\"]"
      ]
    },
    {
      "cell_type": "code",
      "execution_count": 6,
      "metadata": {
        "colab": {
          "base_uri": "https://localhost:8080/"
        },
        "id": "1R1B70cVa1EQ",
        "outputId": "7d41ba75-c7dd-48a9-ce71-89d1d6e2f462"
      },
      "outputs": [
        {
          "name": "stdout",
          "output_type": "stream",
          "text": [
            "['kbank', 'ราคาล่าสุด', 147.5, 0.5, '0.34%']\n",
            "<class 'list'>\n"
          ]
        }
      ],
      "source": [
        "kbank=StockPrice(\"kbank\")\n",
        "print(kbank)\n",
        "print(type(kbank))"
      ]
    },
    {
      "cell_type": "code",
      "execution_count": null,
      "metadata": {
        "id": "afNt7lZScVkc"
      },
      "outputs": [],
      "source": []
    }
  ],
  "metadata": {
    "colab": {
      "collapsed_sections": [],
      "name": "StockPrice.ipynb",
      "provenance": []
    },
    "kernelspec": {
      "display_name": "Python 3.9.6 64-bit",
      "language": "python",
      "name": "python3"
    },
    "language_info": {
      "codemirror_mode": {
        "name": "ipython",
        "version": 3
      },
      "file_extension": ".py",
      "mimetype": "text/x-python",
      "name": "python",
      "nbconvert_exporter": "python",
      "pygments_lexer": "ipython3",
      "version": "3.9.6"
    },
    "vscode": {
      "interpreter": {
        "hash": "83f73d5875a575e504ba23451a5997fea59c0c75034f677431fe9f5bc2b0207e"
      }
    }
  },
  "nbformat": 4,
  "nbformat_minor": 0
}
